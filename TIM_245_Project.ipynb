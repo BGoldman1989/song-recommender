{
 "cells": [
  {
   "cell_type": "markdown",
   "metadata": {},
   "source": [
    "# Preprocessing"
   ]
  },
  {
   "cell_type": "code",
   "execution_count": null,
   "metadata": {
    "collapsed": false
   },
   "outputs": [],
   "source": [
    "from gensim import corpora\n",
    "import pandas as pd\n",
    "from nltk.tokenize.casual import casual_tokenize\n",
    "from nltk.corpus import stopwords\n",
    "\n",
    "def tokenize(text, stopset):\n",
    "    tokens = casual_tokenize(text)\n",
    "    return [w for w in tokens if not w in stopset]\n",
    "\n",
    "df = pd.read_csv(\"lyrics.csv\")\n",
    "stopset = set(stopwords.words('english')).union(set(['chorus','verse','[',']','(',')']))\n",
    "df = df[['index','song','artist','genre','lyrics']]\n",
    "df = df[df.apply(lambda x: not (pd.isnull(x['lyrics']) or pd.isnull(x['song']) or x['genre'] == 'Not Available' or x['genre'] == 'Other'), \n",
    "        axis=1, reduce=True)]\n",
    "df['lyrics'] = df.apply(lambda x: tokenize(x['lyrics'], stopset), axis=1, reduce=True)\n",
    "df = df[df.apply(lambda x: len(x['lyrics']) > 20, axis=1, reduce=True)]\n",
    "df = df.groupby('genre').apply(lambda x: x.sample(n=2000))\n",
    "\n",
    "df.to_pickle('tickle_my.pkl')\n",
    "\n"
   ]
  },
  {
   "cell_type": "markdown",
   "metadata": {},
   "source": [
    "# Word/Document Embedding"
   ]
  },
  {
   "cell_type": "code",
   "execution_count": 1,
   "metadata": {
    "collapsed": false
   },
   "outputs": [],
   "source": [
    "from gensim import corpora\n",
    "from gensim.models import KeyedVectors\n",
    "\n",
    "model = KeyedVectors.load_word2vec_format('GoogleNews-vectors-negative300.bin', binary=True)\n"
   ]
  },
  {
   "cell_type": "code",
   "execution_count": 2,
   "metadata": {
    "collapsed": false
   },
   "outputs": [],
   "source": [
    "model.init_sims(replace=False)"
   ]
  },
  {
   "cell_type": "code",
   "execution_count": 3,
   "metadata": {
    "collapsed": false
   },
   "outputs": [],
   "source": [
    "#create seeds\n",
    "happy = ['happy']\n",
    "love = ['love','lust']\n",
    "sad = ['sad']\n",
    "hate = ['anger','hate']\n",
    "\n",
    "#Generate related words from seeds\n",
    "happy_words50 = [a[0] for a in model.most_similar(positive=sad,negative=happy, topn=50)]\n",
    "sad_words50 = [a[0] for a in model.most_similar(positive=happy,negative=sad, topn=50)]\n",
    "love_words50 = [a[0] for a in model.most_similar(positive=love,negative=hate, topn=50)]\n",
    "hate_words50 = [a[0] for a in model.most_similar(positive=hate,negative=love, topn=50)]\n"
   ]
  },
  {
   "cell_type": "code",
   "execution_count": 4,
   "metadata": {
    "collapsed": false
   },
   "outputs": [],
   "source": [
    "import string\n",
    "import numpy as np\n",
    "from numpy import linalg\n",
    "\n",
    "def normalize(vector):\n",
    "    norm = linalg.norm(vector)\n",
    "    nrmlz = np.vectorize(lambda v: v/norm)\n",
    "    return nrmlz(vector)\n",
    "    \n",
    "def doc2vec(tokenized_doc, model):\n",
    "    count = 0    \n",
    "    res = np.zeros(300)\n",
    "    for word in tokenized_doc:\n",
    "        if word not in string.punctuation:\n",
    "            if word in model:\n",
    "                count += 1\n",
    "                res += model[word]\n",
    "    if count != 0:\n",
    "        res /= count\n",
    "    return res\n",
    "\n",
    "happy_words50_vec = normalize(doc2vec(happy_words50,model))\n",
    "sad_words50_vec = normalize(doc2vec(sad_words50, model))\n",
    "love_words50_vec = normalize(doc2vec(love_words50, model))\n",
    "hate_words50_vec = normalize(doc2vec(hate_words50, model))\n"
   ]
  },
  {
   "cell_type": "code",
   "execution_count": 67,
   "metadata": {
    "collapsed": false
   },
   "outputs": [],
   "source": [
    "import pandas as pd\n",
    "\n",
    "df = pd.read_pickle('tickle_my.pkl')['lyrics']\n",
    "df = df.apply(lambda x: normalize(doc2vec(x,model)))\n",
    "df = df.apply(lambda x: np.nan_to_num(x))\n",
    "df.to_pickle('purple.pkl')"
   ]
  },
  {
   "cell_type": "code",
   "execution_count": 66,
   "metadata": {
    "collapsed": false
   },
   "outputs": [
    {
     "name": "stdout",
     "output_type": "stream",
     "text": [
      "20000\n"
     ]
    }
   ],
   "source": []
  },
  {
   "cell_type": "code",
   "execution_count": null,
   "metadata": {
    "collapsed": true
   },
   "outputs": [],
   "source": []
  }
 ],
 "metadata": {
  "anaconda-cloud": {},
  "kernelspec": {
   "display_name": "Python [default]",
   "language": "python",
   "name": "python3"
  },
  "language_info": {
   "codemirror_mode": {
    "name": "ipython",
    "version": 3
   },
   "file_extension": ".py",
   "mimetype": "text/x-python",
   "name": "python",
   "nbconvert_exporter": "python",
   "pygments_lexer": "ipython3",
   "version": "3.5.2"
  }
 },
 "nbformat": 4,
 "nbformat_minor": 2
}
