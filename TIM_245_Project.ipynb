{
 "cells": [
  {
   "cell_type": "markdown",
   "metadata": {},
   "source": [
    "# Preprocessing"
   ]
  },
  {
   "cell_type": "code",
   "execution_count": 11,
   "metadata": {
    "collapsed": false
   },
   "outputs": [],
   "source": [
    "from gensim import corpora\n",
    "import pandas as pd\n",
    "from nltk import word_tokenize\n",
    "from nltk.corpus import stopwords\n",
    "\n",
    "def tokenize(text, stopset):\n",
    "    tokens = word_tokenize(text)\n",
    "    return [w for w in tokens if not w in stopset]\n",
    "\n",
    "df = pd.read_csv(\"lyrics.csv\")\n",
    "stopset = set(stopwords.words('english')).union(set(['chorus','verse','[',']','(',')']))\n",
    "\n",
    "df = df[['index','song','artist','genre','lyrics']]\n",
    "df = df[df.apply(lambda x: not (pd.isnull(x['lyrics']) or pd.isnull(x['song']) or x['genre'] == 'Not Available' or x['genre'] == 'Other'), \n",
    "        axis=1, reduce=True)]\n",
    "df['lyrics'] = df.apply(lambda x: tokenize(x['lyrics'], stopset), axis=1, reduce=True)\n",
    "df = df[df.apply(lambda x: len(x['lyrics']) > 20, axis=1, reduce=True)]\n",
    "df = df.groupby('genre').apply(lambda x: x.sample(n=2000))\n",
    "\n",
    "df.to_pickle('tickle_my.pkl')\n",
    "\n"
   ]
  },
  {
   "cell_type": "markdown",
   "metadata": {},
   "source": [
    "# Word/Document Embedding"
   ]
  },
  {
   "cell_type": "code",
   "execution_count": 1,
   "metadata": {
    "collapsed": false
   },
   "outputs": [],
   "source": [
    "import pandas as pd\n",
    "from gensim import corpora\n",
    "from gensim.models import KeyedVectors\n",
    "\n",
    "#create seeds\n",
    "happy = ['happy','hope', 'joy', 'gratitude', 'satisfaction']\n",
    "love = ['love','admiration', 'lust']\n",
    "sadness = ['sadness','lonely', 'pity']\n",
    "fear = ['fear','nervous', 'anxious', 'distress']\n",
    "anger = ['anger','resentment', 'hate', 'disgust', 'frustration']\n",
    "\n",
    "model = KeyedVectors.load_word2vec_format('GoogleNews-vectors-negative300.bin', binary=True)\n",
    "\n",
    "#df = pd.read_pickle('tickle_my.pkl')\n",
    "#lyrics = dataframe.as_matrix(['index'])\n"
   ]
  },
  {
   "cell_type": "code",
   "execution_count": 2,
   "metadata": {
    "collapsed": false
   },
   "outputs": [],
   "source": [
    "model.init_sims(replace=False)"
   ]
  },
  {
   "cell_type": "code",
   "execution_count": 8,
   "metadata": {
    "collapsed": false
   },
   "outputs": [
    {
     "data": {
      "text/plain": [
       "[('discontent', 0.6435658931732178),\n",
       " ('unhappiness', 0.6304956078529358),\n",
       " ('dissatisfaction', 0.6197926998138428),\n",
       " ('disgruntlement', 0.6064539551734924),\n",
       " ('frustrations', 0.5987093448638916),\n",
       " ('displeasure', 0.597790539264679),\n",
       " ('outrage', 0.5904906988143921),\n",
       " ('discontentment', 0.5718801617622375),\n",
       " ('exasperation', 0.5645514726638794),\n",
       " ('disquiet', 0.557529091835022),\n",
       " ('indignation', 0.5535059571266174),\n",
       " ('hostility', 0.5502309799194336),\n",
       " ('fury', 0.5428645610809326),\n",
       " ('dismay', 0.5392096638679504),\n",
       " ('unease', 0.5373574495315552),\n",
       " ('disaffection', 0.5370421409606934),\n",
       " ('Frustration', 0.5344427227973938),\n",
       " ('disenchantment', 0.5272442102432251),\n",
       " ('animosity', 0.5169574022293091),\n",
       " ('bitterness', 0.5159363150596619),\n",
       " ('distrust', 0.513446569442749),\n",
       " ('impatience', 0.5115873217582703),\n",
       " ('irritation', 0.5097345113754272),\n",
       " ('hostility_toward', 0.5039492845535278),\n",
       " ('simmering_anger', 0.5033793449401855),\n",
       " ('disatisfaction', 0.5017848610877991),\n",
       " ('angst', 0.5004004240036011),\n",
       " ('Anger', 0.4996125102043152),\n",
       " ('Resentment', 0.4909434914588928),\n",
       " ('angry', 0.490852415561676),\n",
       " ('disappointment', 0.48854002356529236),\n",
       " ('antagonism', 0.4885282516479492),\n",
       " ('revulsion', 0.4785314202308655),\n",
       " ('rancor', 0.4729405641555786),\n",
       " ('consternation', 0.46987730264663696),\n",
       " ('anxiety', 0.4678371548652649),\n",
       " ('ire', 0.466589093208313),\n",
       " ('disillusionment', 0.4622592628002167),\n",
       " ('apathy', 0.4591633379459381),\n",
       " ('Frustrations', 0.4583706855773926),\n",
       " ('festering_resentment', 0.45708757638931274),\n",
       " ('uneasiness', 0.456809937953949),\n",
       " ('mistrust', 0.45526373386383057),\n",
       " ('anguish', 0.4527316689491272),\n",
       " ('animosity_toward', 0.44936680793762207),\n",
       " ('frustation', 0.4491715431213379),\n",
       " ('utter_disgust', 0.44863247871398926),\n",
       " ('hatred', 0.4474932849407196),\n",
       " ('seething', 0.446811318397522),\n",
       " ('annoyance', 0.44422397017478943)]"
      ]
     },
     "execution_count": 8,
     "metadata": {},
     "output_type": "execute_result"
    }
   ],
   "source": [
    "model.most_similar(positive=anger,negative=love,topn=50)"
   ]
  },
  {
   "cell_type": "code",
   "execution_count": null,
   "metadata": {
    "collapsed": true
   },
   "outputs": [],
   "source": []
  }
 ],
 "metadata": {
  "anaconda-cloud": {},
  "kernelspec": {
   "display_name": "Python [default]",
   "language": "python",
   "name": "python3"
  },
  "language_info": {
   "codemirror_mode": {
    "name": "ipython",
    "version": 3
   },
   "file_extension": ".py",
   "mimetype": "text/x-python",
   "name": "python",
   "nbconvert_exporter": "python",
   "pygments_lexer": "ipython3",
   "version": "3.5.2"
  }
 },
 "nbformat": 4,
 "nbformat_minor": 2
}
